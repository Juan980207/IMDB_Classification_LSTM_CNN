{
 "cells": [
  {
   "cell_type": "markdown",
   "metadata": {
    "id": "VntVQjqChY1T"
   },
   "source": [
    "# CW1 - Multimodal IMDB Analysis with Keras\n",
    "\n",
    "## Introduction\n",
    "\n",
    "In this assignment you will be provided a dataset containing a selection of films together with their posters in JPEG image format and their overviews in text format from the Internet Movie Database.\n",
    "\n",
    "![Example](https://i.ibb.co/J3trT62/Screenshot-2024-09-22-214753.png)\n",
    "\n",
    "You will be analysing this dataset by implementing and training two models: a **CNN** and an **LSTM**.\n",
    "\n",
    "The CNN must classify film posters by the genre. Independently, the LSTM must classify film overviews by the genre. Finally, you will evaluate and critically comment your results in a short report. (Which of the two models was better at classifying films?)\n",
    "\n",
    "## Structure of the assignment\n",
    "\n",
    "This assignment is broken up into sections and you need to complete each section successively. The sections are the following:\n",
    "\n",
    "1. Data Processing\n",
    "\n",
    "  1.a. Image processing of the posters\n",
    "\n",
    "  1.b. Natural language processing of the overviews\n",
    "\n",
    "2. Definition of the models\n",
    "\n",
    "  2.a. CNN for the posters\n",
    "\n",
    "  2.b. LSTM for the overviews\n",
    "\n",
    "3. Training of the models\n",
    "4. Evaluation of the models\n",
    "\n",
    "In addition to this coding exercise, you must write a **2-3 pages** report analysing and critically evaluating your model's results. Marks for the report will be awarded for depth of analysis and critical thinking skills. You should consider how well your model performs and WHY it does that—give specific examples and comment on their importance."
   ]
  },
  {
   "cell_type": "code",
   "execution_count": 1,
   "metadata": {
    "id": "eBNRzib8voMm"
   },
   "outputs": [],
   "source": [
    "# Enter your module imports here, some modules are already provided\n",
    "\n",
    "import numpy as np\n",
    "import matplotlib.pyplot as plt\n",
    "import tensorflow as tf\n",
    "from tensorflow import keras\n",
    "import os\n",
    "import pathlib\n",
    "import pandas as pd\n",
    "from sklearn import model_selection\n",
    "from tensorflow.keras.models import Model\n",
    "from tensorflow.keras.optimizers import Adam\n",
    "from keras.metrics import Precision, Recall\n",
    "from tensorflow.keras import layers\n",
    "from tensorflow.keras.layers import Input, Conv2D, Dropout, MaxPooling2D, Flatten, Dense, Bidirectional,LSTM\n",
    "from sklearn.metrics import confusion_matrix\n",
    "import seaborn as sns\n",
    "from sklearn.metrics import multilabel_confusion_matrix"
   ]
  },
  {
   "cell_type": "code",
   "execution_count": null,
   "metadata": {
    "id": "MGHk085OWCT_"
   },
   "outputs": [],
   "source": [
    "# CodeGrade Tag Init1\n",
    "from google.colab import drive\n",
    "drive.mount('/content/drive')"
   ]
  },
  {
   "cell_type": "markdown",
   "metadata": {
    "id": "PN-7QYYKKCOH"
   },
   "source": [
    "# 1. Data Processing\n",
    "\n",
    "Warning: running the following cell can take some time.\n"
   ]
  },
  {
   "cell_type": "code",
   "execution_count": null,
   "metadata": {
    "id": "9yWqczq8KGI6"
   },
   "outputs": [],
   "source": [
    "\n",
    "# CodeGrade Tag Init2\n",
    "# Do not edit, remove, or copy this cell\n",
    "\n",
    "# This code will copy the images from your google drive into the colab file\n",
    "# storage. Make sure the dataset is unzipped in your drive folder.\n",
    "! mkdir /tmp/Multimodal_IMDB_dataset\n",
    "! rsync -ah --info=progress2 /content/drive/MyDrive/Multimodal_IMDB_dataset/Images /tmp/Multimodal_IMDB_dataset/\n"
   ]
  },
  {
   "cell_type": "code",
   "execution_count": null,
   "metadata": {
    "id": "gcvpy52m14oB"
   },
   "outputs": [],
   "source": [
    "# CodeGrade Tag Init3\n",
    "# Do not edit, remove, or copy this cell\n",
    "\n",
    "# Load the csv with the sample IDs and genres\n",
    "csv_loc = \"/content/drive/MyDrive/Multimodal_IMDB_dataset/IMDB_overview_genres.csv\"\n",
    "dataset = pd.read_csv(csv_loc)\n",
    "\n",
    "# Split the dataset into training and testing\n",
    "data_train, data_test = model_selection.train_test_split(dataset, test_size=0.2)\n",
    "\n",
    "# Convert the labels to arrays\n",
    "labels_train = np.array(data_train.drop(['Id', 'Genre', 'Overview'],axis=1)).astype('float32')\n",
    "labels_test = np.array(data_test.drop(['Id', 'Genre', 'Overview'],axis=1)).astype('float32')\n",
    "\n",
    "# List of the genre names\n",
    "genres = np.array(data_train.drop(['Id', 'Genre', 'Overview'],axis=1).columns)\n",
    "\n",
    "# List of overviews\n",
    "overviews_train = np.array(data_train['Overview'])\n",
    "overviews_test = np.array(data_test['Overview'])\n",
    "\n",
    "# Build the file locations for the images\n",
    "img_loc = \"/tmp/Multimodal_IMDB_dataset/Images\"\n",
    "\n",
    "img_locs_train = np.array([[img_loc + '/' + id + '.jpg' for id in data_train['Id']]])\n",
    "img_locs_test = [[img_loc + '/' + id + '.jpg' for id in data_test['Id']]]\n",
    "\n",
    "# This function is provided to read in the image files from the folder\n",
    "def parse_image(filename, label):\n",
    "  image = tf.io.read_file(filename)\n",
    "  image = tf.io.decode_jpeg(image)\n",
    "  return image, label"
   ]
  },
  {
   "cell_type": "markdown",
   "metadata": {
    "id": "Uc6nKjDKez0T"
   },
   "source": [
    "\n",
    "### 1.a. Image processing of the posters"
   ]
  },
  {
   "cell_type": "code",
   "execution_count": null,
   "metadata": {
    "id": "jdnTHGvDYSg8"
   },
   "outputs": [],
   "source": [
    "# CodeGrade Tag Init4\n",
    "# Do not edit, remove, or copy this cell\n",
    "\n",
    "# Create the initial datasets of film posters\n",
    "list_posters_train_ds = tf.data.Dataset.from_tensor_slices((img_locs_train[0], labels_train))\n",
    "list_posters_valid_ds = tf.data.Dataset.from_tensor_slices((img_locs_test[0], labels_test))"
   ]
  },
  {
   "cell_type": "markdown",
   "metadata": {
    "id": "q3hIMuVQM4AN"
   },
   "source": [
    "* Create a function called ```img_process``` that converts the images to float32 datatype and resizes them to 64x64 pixels"
   ]
  },
  {
   "cell_type": "code",
   "execution_count": null,
   "metadata": {
    "id": "BxtGcsAWM3gs"
   },
   "outputs": [],
   "source": [
    "\n",
    "\n",
    "# CodeGrade Tag Ex1a-i\n",
    "### Create a function called img_process that converts the images to\n",
    "### float32 datatype and resizes them to 64x64 pixels\n",
    "\n",
    "def img_process(image, label):\n",
    "    #Complete here\n",
    "    image=tf.image.convert_image_dtype(image, tf.float32)\n",
    "    image = tf.image.resize(image, [64, 64])\n",
    "    return image, label"
   ]
  },
  {
   "cell_type": "markdown",
   "metadata": {
    "id": "G51UPu0fNmNf"
   },
   "source": [
    "* **Using the ``tf.data`` API, load in the training and validation data for the posters. Be mindful of efficient data processing good practice to minimise the time it takes to load the data.**"
   ]
  },
  {
   "cell_type": "code",
   "execution_count": null,
   "metadata": {
    "id": "VNUS8p98Ph5L"
   },
   "outputs": [],
   "source": [
    "# CodeGrade Tag Ex1a-ii\n",
    "### Use the parse_image and img_process functions to construct the training and\n",
    "### validation datasets. You should utilise good practice in optimising the\n",
    "### dataset loading. Use a batch size of 64.\n",
    "\n",
    "posters_train_ds = list_posters_train_ds.map(parse_image).batch(64).map(img_process,num_parallel_calls=tf.data.AUTOTUNE).cache().prefetch(tf.data.AUTOTUNE)\n",
    "posters_valid_ds = list_posters_valid_ds.map(parse_image).batch(64).map(img_process,num_parallel_calls=tf.data.AUTOTUNE).cache().prefetch(tf.data.AUTOTUNE)"
   ]
  },
  {
   "cell_type": "markdown",
   "metadata": {
    "id": "PxLuHXhqqDrV"
   },
   "source": [
    "### 1.b. Natural Language processing of the overviews"
   ]
  },
  {
   "cell_type": "code",
   "execution_count": null,
   "metadata": {
    "id": "3JcCA19iLs34"
   },
   "outputs": [],
   "source": [
    "# CodeGrade Tag Init5\n",
    "# Do not edit, remove, or copy this cell\n",
    "\n",
    "# Create the initial datasets of the film overviews\n",
    "list_overviews_train_ds = tf.data.Dataset.from_tensor_slices((overviews_train, labels_train))\n",
    "list_overviews_valid_ds = tf.data.Dataset.from_tensor_slices((overviews_test, labels_test))"
   ]
  },
  {
   "cell_type": "markdown",
   "metadata": {
    "id": "Zc6y4JeOYw1Y"
   },
   "source": [
    "* **Using the ``tf.data`` API, load in the training and validation data for the overviews.**"
   ]
  },
  {
   "cell_type": "code",
   "execution_count": null,
   "metadata": {
    "id": "DejqXjATQLKY"
   },
   "outputs": [],
   "source": [
    "\n",
    "# CodeGrade Tag Ex1b-i\n",
    "### Construct the training and validation datasets. Use a batch size of 64.\n",
    "\n",
    "overviews_train_ds = list_overviews_train_ds.batch(64).prefetch(tf.data.AUTOTUNE)\n",
    "\n",
    "overviews_valid_ds = list_overviews_valid_ds.batch(64).prefetch(tf.data.AUTOTUNE)"
   ]
  },
  {
   "cell_type": "markdown",
   "metadata": {
    "id": "66neZRjDZzk-"
   },
   "source": [
    "* Build the vocabulary of the model by calling the ``encoder.adapt()`` method on the film overviews train data."
   ]
  },
  {
   "cell_type": "code",
   "execution_count": null,
   "metadata": {
    "id": "7rJr-DmWv-9q"
   },
   "outputs": [],
   "source": [
    "# CodeGrade Tag Ex1b-ii\n",
    "### Build the vocabulary of the model by calling the encoder.adapt() method on\n",
    "### the film overviews train data.\n",
    "\n",
    "VOCAB_SIZE = 10000\n",
    "\n",
    "encoder = tf.keras.layers.TextVectorization(max_tokens=VOCAB_SIZE)\n",
    "encoder.adapt(overviews_train_ds.map(lambda text, label: text))"
   ]
  },
  {
   "cell_type": "markdown",
   "metadata": {
    "id": "4nzcrSbhaLJY"
   },
   "source": [
    "* Print the first 200 words of the vocabulary you obtained."
   ]
  },
  {
   "cell_type": "code",
   "execution_count": null,
   "metadata": {
    "id": "FunjHEkNv_mT"
   },
   "outputs": [],
   "source": [
    "# CodeGrade Tag Ex1b-iii\n",
    "### Print the first 200 words of the vocabulary you obtained.\n",
    "\n",
    "print(encoder.get_vocabulary()[:200])"
   ]
  },
  {
   "cell_type": "markdown",
   "metadata": {
    "id": "86Uo36n_KGYb"
   },
   "source": [
    "# 2. Definition of the models\n",
    "\n",
    "### 2.a. CNN\n",
    "\n",
    "**Using the Keras Functional API, create a convolutional neural network with the architecture shown in the model summary below.**\n",
    "\n",
    "**A few important points to consider:**\n",
    "\n",
    "* Call the convolutional layers and the first dense layer should have ReLU activation functions. The output layer should have a Sigmoid activation function.\n",
    "* Pay attention to the output shapes and the number of partmeters for each layer, as these give indications as to the correct settings for the number of filters, kernel size, stride length and padding.\n",
    "* Use the layer names provided in the summary in your model.\n",
    "* For the dropout layers, use a dropout rate of 0.2 after the convolutional layers and 0.5 after the dense layers."
   ]
  },
  {
   "cell_type": "markdown",
   "metadata": {
    "id": "hBSBfH-QP6M0"
   },
   "source": [
    "\n",
    "```\n",
    "# Model Summary\n",
    "\n",
    "Model: \"model\"\n",
    "_________________________________________________________________\n",
    " Layer (type)                Output Shape              Param #   \n",
    "=================================================================\n",
    " Input (InputLayer)          [(None, 64, 64, 3)]       0         \n",
    "                                                                 \n",
    " Conv0 (Conv2D)              (None, 32, 32, 16)        448       \n",
    "                                                                 \n",
    " Drop1 (Dropout)             (None, 32, 32, 16)        0         \n",
    "                                                                 \n",
    " Conv1 (Conv2D)              (None, 32, 32, 32)        4640      \n",
    "                                                                 \n",
    " Conv2 (Conv2D)              (None, 32, 32, 32)        9248      \n",
    "                                                                 \n",
    " Drop2 (Dropout)             (None, 32, 32, 32)        0         \n",
    "                                                                 \n",
    " Pool1 (MaxPooling2D)        (None, 16, 16, 32)        0         \n",
    "                                                                 \n",
    " Conv3 (Conv2D)              (None, 16, 16, 64)        18496     \n",
    "                                                                 \n",
    " Conv4 (Conv2D)              (None, 16, 16, 64)        36928     \n",
    "                                                                 \n",
    " Drop3 (Dropout)             (None, 16, 16, 64)        0         \n",
    "                                                                 \n",
    " Pool2 (MaxPooling2D)        (None, 8, 8, 64)          0         \n",
    "                                                                 \n",
    " Conv5 (Conv2D)              (None, 8, 8, 128)         73856     \n",
    "                                                                 \n",
    " Conv6 (Conv2D)              (None, 8, 8, 128)         147584    \n",
    "                                                                 \n",
    " Drop4 (Dropout)             (None, 8, 8, 128)         0         \n",
    "                                                                 \n",
    " Pool3 (MaxPooling2D)        (None, 4, 4, 128)         0         \n",
    "                                                                 \n",
    " Flat (Flatten)              (None, 2048)              0         \n",
    "                                                                 \n",
    " FC1 (Dense)                 (None, 1024)              2098176   \n",
    "                                                                 \n",
    " Drop5 (Dropout)             (None, 1024)              0         \n",
    "                                                                 \n",
    " FC2 (Dense)                 (None, 1024)              1049600   \n",
    "                                                                 \n",
    " Drop6 (Dropout)             (None, 1024)              0         \n",
    "                                                                 \n",
    " Output (Dense)              (None, 25)                25625     \n",
    "                                                                 \n",
    "=================================================================\n",
    "Total params: 3464601 (13.22 MB)\n",
    "Trainable params: 3464601 (13.22 MB)\n",
    "Non-trainable params: 0 (0.00 Byte)\n",
    "_________________________________________________________________\n",
    "\n",
    "\n",
    "```\n",
    "\n"
   ]
  },
  {
   "cell_type": "code",
   "execution_count": null,
   "metadata": {
    "id": "im9qipCiKJMK"
   },
   "outputs": [],
   "source": [
    "# CodeGrade Tag Ex2a-i\n",
    "### Define the model using the Keras Functional API. Use the summary above as a\n",
    "### guide for the model parameters. You will need to define the filters/units of\n",
    "### the layers correctly, as well as the kernel size, stride length and padding\n",
    "### of the convolutional layers.\n",
    "\n",
    "def build_cnn_model():\n",
    "  Inp=layers.Input(shape=(64,64,3),name='Input')\n",
    "  Conv0=layers.Conv2D(filters=16,kernel_size=(3,3)\\\n",
    "                      ,strides=(2,2),padding='same',activation='relu',name='Conv0')(Inp)\n",
    "  Drop1=layers.Dropout(rate=0.2,name='Drop1')(Conv0)\n",
    "  Conv1=layers.Conv2D(filters=32,kernel_size=(3,3)\\\n",
    "                      ,strides=(1,1),padding='same',activation='relu',name='Conv1')(Drop1)\n",
    "  Conv2=layers.Conv2D(filters=32,kernel_size=(3,3)\\\n",
    "                      ,strides=(1,1),padding='same',activation='relu',name='Conv2')(Conv1)\n",
    "  Drop2=layers.Dropout(rate=0.2,name='Drop2')(Conv2)\n",
    "  Pool1=layers.MaxPooling2D(pool_size=(2,2)\\\n",
    "                            ,strides=(2,2),name='Pool1')(Drop2)\n",
    "  Conv3=layers.Conv2D(filters=64,kernel_size=(3,3)\\\n",
    "                      ,strides=(1,1),padding='same',activation='relu',name='Conv3')(Pool1)\n",
    "  Conv4=layers.Conv2D(filters=64,kernel_size=(3,3)\\\n",
    "                      ,strides=(1,1),padding='same',activation='relu',name='Conv4')(Conv3)\n",
    "  Drop3=layers.Dropout(rate=0.2,name='Drop3')(Conv4)\n",
    "  Pool2=layers.MaxPooling2D(pool_size=(2,2)\\\n",
    "                            ,strides=(2,2),name='Pool2')(Drop3)\n",
    "  Conv5=layers.Conv2D(filters=128,kernel_size=(3,3)\\\n",
    "                      ,strides=(1,1),padding='same',activation='relu',name='Conv5')(Pool2)\n",
    "  Conv6=layers.Conv2D(filters=128,kernel_size=(3,3)\\\n",
    "                      ,strides=(1,1),padding='same',activation='relu',name='Conv6')(Conv5)\n",
    "  Drop4=layers.Dropout(rate=0.2,name='Drop4')(Conv6)\n",
    "  Pool3=layers.MaxPooling2D(pool_size=(2,2)\\\n",
    "                            ,strides=(2,2),name='Pool3')(Drop4)\n",
    "  Flat=layers.Flatten(name='Flat')(Pool3)\n",
    "  FC1=layers.Dense(units=1024,activation='relu',name='FC1')(Flat)\n",
    "  Drop5=layers.Dropout(rate=0.5,name='Drop5')(FC1)\n",
    "  FC2=layers.Dense(units=1024,activation='relu',name='FC2')(Drop5)\n",
    "  Drop6=layers.Dropout(rate=0.5,name='Drop6')(FC2)\n",
    "  Output=layers.Dense(units=25,activation='sigmoid',name='Output')(Drop6)\n",
    "\n",
    "  model=Model(inputs=Inp,outputs=Output,name='model')\n",
    "\n",
    "  #Complete here\n",
    "\n",
    "  return model\n",
    "\n",
    "cnn_model = build_cnn_model()\n"
   ]
  },
  {
   "cell_type": "markdown",
   "metadata": {
    "id": "ArMjXi7iUxn9"
   },
   "source": [
    "* Print the model summary and confirm it has the same architecture as the one provided."
   ]
  },
  {
   "cell_type": "code",
   "execution_count": null,
   "metadata": {
    "id": "4ogeFQCqnz06"
   },
   "outputs": [],
   "source": [
    "\n",
    "# CodeGrade Tag Ex2a-ii\n",
    "### Print the model summary and confirm it has the same architecture as the one\n",
    "### provided.\n",
    "cnn_model.summary()\n",
    "#Complete here"
   ]
  },
  {
   "cell_type": "markdown",
   "metadata": {
    "id": "7Q4qQnsuP-CM"
   },
   "source": [
    "* **Compile the model using the Adam Optimizer with a learning rate of ```1e-4``` and ```binary crossentropy``` loss function. For the metrics, use the ``Precision`` and ``Recall`` functions.**"
   ]
  },
  {
   "cell_type": "code",
   "execution_count": null,
   "metadata": {
    "id": "qndXNKsyQl2G"
   },
   "outputs": [],
   "source": [
    "# CodeGrade Tag Ex2a-iii\n",
    "### Compile the model using the Adam Optimizer with a learning rate of 1e-4 and\n",
    "### binary crossentropy loss function. For the metrics, use the Precision and\n",
    "### Recall functions.\n",
    "cnn_model.compile(optimizer=Adam(learning_rate=1e-4),loss=tf.keras.losses.BinaryCrossentropy(from_logits=False),metrics=[Precision(),Recall()])"
   ]
  },
  {
   "cell_type": "markdown",
   "metadata": {
    "id": "xMLNubJ4q2iS"
   },
   "source": [
    "### 2.b. LSTM model\n",
    "\n",
    "* Set up the embedding layer by using ```tf.keras.layers.Embedding```. The ```input_dim``` is the length of the vocab, and the ```output_dim``` must be **265**. You should also set ```mask_zero=True```."
   ]
  },
  {
   "cell_type": "code",
   "execution_count": null,
   "metadata": {
    "id": "v_kXVZozwQbR"
   },
   "outputs": [],
   "source": [
    "# CodeGrade Tag Ex2b-i\n",
    "### Set up the embedding layer. The input_dim is the length of the vocab, and\n",
    "### the output_dim must be 256. You should also set mask_zero=True.\n",
    "\n",
    "embedder = tf.keras.layers.Embedding(input_dim=VOCAB_SIZE,output_dim=256,mask_zero=True)"
   ]
  },
  {
   "cell_type": "markdown",
   "metadata": {
    "id": "gtTvirSLateH"
   },
   "source": [
    "* Use ```tf.keras.Sequential``` to build a keras sequential model, with the following layers:\n",
    "\n",
    "\n",
    "\n",
    "  1.   encoder\n",
    "  2.   embedder\n",
    "  3.   biLSTM layer with 256 units, dropout 0.5, recurrent dropout 0.2 (make sure to use the right ```return_sequences``` parametre to be able to stack this layer with the following BiLSTM)\n",
    "  4.   biLSTM layer with 128 units, dropout 0.5, recurrent dropout 0.2\n",
    "  5.   dense layer with 128 units and relu activation function\n",
    "  6.   dropout with rate 0.8\n",
    "  7.   dense output layer with 25 units and sigmoid activation function\n",
    "\n"
   ]
  },
  {
   "cell_type": "code",
   "execution_count": null,
   "metadata": {
    "id": "dED-ES8KwRMp"
   },
   "outputs": [],
   "source": [
    "# CodeGrade Tag Ex2b-ii\n",
    "### Build a keras sequential model, with the layers provided above.\n",
    "\n",
    "lstm_model = tf.keras.Sequential([encoder\\\n",
    "                                 ,embedder\\\n",
    "                                 ,Bidirectional(LSTM(units=256,dropout=0.5,recurrent_dropout=0.2,return_sequences=True))\\\n",
    "                                 ,Bidirectional(LSTM(units=128,dropout=0.5,recurrent_dropout=0.2))\\\n",
    "                                 ,Dense(units=128,activation='relu')\\\n",
    "                                 ,Dropout(rate=0.8)\\\n",
    "                                 ,Dense(units=25,activation='sigmoid')])\n",
    "\n",
    "\n",
    "lstm_model.build((None,))"
   ]
  },
  {
   "cell_type": "markdown",
   "metadata": {
    "id": "8A_Dugs1dxDy"
   },
   "source": [
    "* Print the model summary and confirm is has the same architecture as the outline provided above."
   ]
  },
  {
   "cell_type": "code",
   "execution_count": null,
   "metadata": {
    "id": "RlLWD9ZUDQAD"
   },
   "outputs": [],
   "source": [
    "# CodeGrade Tag Ex2b-iii\n",
    "### Print the model summary and confirm is has the same architecture as the\n",
    "### outline provided above.\n",
    "\n",
    "lstm_model.summary()"
   ]
  },
  {
   "cell_type": "markdown",
   "metadata": {
    "id": "x1ZyLIvvbF_t"
   },
   "source": [
    "* Compile the model with binary crossentropy loss and the adam optimizer. For the metrics, use the Precision and Recall functions."
   ]
  },
  {
   "cell_type": "code",
   "execution_count": null,
   "metadata": {
    "id": "UfgwlJYFwVO6"
   },
   "outputs": [],
   "source": [
    "# CodeGrade Tag Ex2b-iv\n",
    "### Compile the model with binary crossentropy loss, the adam optimizer, with\n",
    "### the precision and recall metrics\n",
    "\n",
    "lstm_model.compile(loss=tf.keras.losses.BinaryCrossentropy(from_logits=False),\\\n",
    "                   optimizer=tf.keras.optimizers.Adam(1e-4),metrics=[Precision(),Recall()])"
   ]
  },
  {
   "cell_type": "markdown",
   "metadata": {
    "id": "4G9gILWpKJXP"
   },
   "source": [
    "# 3. Training of the models\n",
    "\n",
    "* **For each model, create a Checkpoint Callback that saves the weights of the best performing epoch, based on the validation loss.**"
   ]
  },
  {
   "cell_type": "code",
   "execution_count": null,
   "metadata": {
    "id": "ulXjHaiZKLLZ"
   },
   "outputs": [],
   "source": [
    "# CodeGrade Tag Ex3a-i\n",
    "### Create two ModelCheckpoint callbacks to store the bext weights from each\n",
    "### model, both based on the validation loss.\n",
    "\n",
    "checkpoint_cnn_filepath = '/content/checkpoint_cnn.weights.h5'\n",
    "checkpoint_lstm_filepath = '/content/checkpoint_lstm.weights.h5'\n",
    "\n",
    "from tensorflow.keras.callbacks import ModelCheckpoint\n",
    "\n",
    "checkpoint_cnn_callback = ModelCheckpoint(filepath=checkpoint_cnn_filepath,save_weights_only=True,monitor='val_loss',mode='min',save_best_only=True)\n",
    "\n",
    "checkpoint_lstm_callback = ModelCheckpoint(filepath=checkpoint_lstm_filepath,save_weights_only=True,monitor='val_loss',mode='min',save_best_only=True)\n"
   ]
  },
  {
   "cell_type": "markdown",
   "metadata": {
    "id": "9iUsL966RQMJ"
   },
   "source": [
    "* **Create a Learning Rate Scheduler Callback that utilises the provided function to decrease the learning rate during training.**"
   ]
  },
  {
   "cell_type": "code",
   "execution_count": null,
   "metadata": {
    "id": "5jhC3C7qRX1B"
   },
   "outputs": [],
   "source": [
    "# CodeGrade Tag Ex3a-ii\n",
    "### Using the function provided, create a LearningRateScheduler callback, call\n",
    "### it \"lr_callback\"\n",
    "\n",
    "def scheduler(epoch, lr):\n",
    "    if epoch < 10:\n",
    "        return float(lr)\n",
    "    else:\n",
    "        return float(lr * tf.math.exp(-0.01))\n",
    "\n",
    "lr_callback = keras.callbacks.LearningRateScheduler(scheduler)\n"
   ]
  },
  {
   "cell_type": "markdown",
   "metadata": {
    "id": "zQbqwZNjRYIC"
   },
   "source": [
    "### 3.a. CNN training\n",
    "\n",
    "* **Train the CNN model for 40 epochs, using the callbacks you made previously. Store the losses and metrics to use later.**"
   ]
  },
  {
   "cell_type": "code",
   "execution_count": null,
   "metadata": {
    "colab": {
     "base_uri": "https://localhost:8080/"
    },
    "id": "05qEIpORRfr8",
    "outputId": "9b19d462-ca19-45bb-c52a-e5bcb3fb7c43"
   },
   "outputs": [
    {
     "name": "stdout",
     "output_type": "stream",
     "text": [
      "Epoch 1/40\n",
      "\u001b[1m80/80\u001b[0m \u001b[32m━━━━━━━━━━━━━━━━━━━━\u001b[0m\u001b[37m\u001b[0m \u001b[1m72s\u001b[0m 847ms/step - loss: 0.4225 - precision: 0.2517 - recall: 0.2574 - val_loss: 0.3442 - val_precision: 0.5621 - val_recall: 0.2367 - learning_rate: 1.0000e-04\n",
      "Epoch 2/40\n",
      "\u001b[1m80/80\u001b[0m \u001b[32m━━━━━━━━━━━━━━━━━━━━\u001b[0m\u001b[37m\u001b[0m \u001b[1m65s\u001b[0m 814ms/step - loss: 0.2581 - precision: 0.4842 - recall: 0.2134 - val_loss: 0.3365 - val_precision: 0.5749 - val_recall: 0.2593 - learning_rate: 1.0000e-04\n",
      "Epoch 3/40\n",
      "\u001b[1m80/80\u001b[0m \u001b[32m━━━━━━━━━━━━━━━━━━━━\u001b[0m\u001b[37m\u001b[0m \u001b[1m63s\u001b[0m 788ms/step - loss: 0.2464 - precision: 0.5321 - recall: 0.2219 - val_loss: 0.3106 - val_precision: 0.5732 - val_recall: 0.3715 - learning_rate: 1.0000e-04\n",
      "Epoch 4/40\n",
      "\u001b[1m80/80\u001b[0m \u001b[32m━━━━━━━━━━━━━━━━━━━━\u001b[0m\u001b[37m\u001b[0m \u001b[1m60s\u001b[0m 755ms/step - loss: 0.2409 - precision: 0.5368 - recall: 0.2542 - val_loss: 0.3048 - val_precision: 0.6011 - val_recall: 0.2929 - learning_rate: 1.0000e-04\n",
      "Epoch 5/40\n",
      "\u001b[1m80/80\u001b[0m \u001b[32m━━━━━━━━━━━━━━━━━━━━\u001b[0m\u001b[37m\u001b[0m \u001b[1m60s\u001b[0m 748ms/step - loss: 0.2363 - precision: 0.5552 - recall: 0.2459 - val_loss: 0.3000 - val_precision: 0.5830 - val_recall: 0.3356 - learning_rate: 1.0000e-04\n",
      "Epoch 6/40\n",
      "\u001b[1m80/80\u001b[0m \u001b[32m━━━━━━━━━━━━━━━━━━━━\u001b[0m\u001b[37m\u001b[0m \u001b[1m61s\u001b[0m 768ms/step - loss: 0.2353 - precision: 0.5611 - recall: 0.2601 - val_loss: 0.2891 - val_precision: 0.5848 - val_recall: 0.3362 - learning_rate: 1.0000e-04\n",
      "Epoch 7/40\n",
      "\u001b[1m80/80\u001b[0m \u001b[32m━━━━━━━━━━━━━━━━━━━━\u001b[0m\u001b[37m\u001b[0m \u001b[1m62s\u001b[0m 771ms/step - loss: 0.2338 - precision: 0.5618 - recall: 0.2616 - val_loss: 0.2838 - val_precision: 0.5858 - val_recall: 0.3159 - learning_rate: 1.0000e-04\n",
      "Epoch 8/40\n",
      "\u001b[1m80/80\u001b[0m \u001b[32m━━━━━━━━━━━━━━━━━━━━\u001b[0m\u001b[37m\u001b[0m \u001b[1m80s\u001b[0m 739ms/step - loss: 0.2328 - precision: 0.5695 - recall: 0.2584 - val_loss: 0.2785 - val_precision: 0.5865 - val_recall: 0.3126 - learning_rate: 1.0000e-04\n",
      "Epoch 9/40\n",
      "\u001b[1m80/80\u001b[0m \u001b[32m━━━━━━━━━━━━━━━━━━━━\u001b[0m\u001b[37m\u001b[0m \u001b[1m61s\u001b[0m 759ms/step - loss: 0.2311 - precision: 0.5712 - recall: 0.2638 - val_loss: 0.2701 - val_precision: 0.5879 - val_recall: 0.3149 - learning_rate: 1.0000e-04\n",
      "Epoch 10/40\n",
      "\u001b[1m80/80\u001b[0m \u001b[32m━━━━━━━━━━━━━━━━━━━━\u001b[0m\u001b[37m\u001b[0m \u001b[1m60s\u001b[0m 758ms/step - loss: 0.2319 - precision: 0.5644 - recall: 0.2609 - val_loss: 0.2692 - val_precision: 0.5886 - val_recall: 0.3086 - learning_rate: 1.0000e-04\n",
      "Epoch 11/40\n",
      "\u001b[1m80/80\u001b[0m \u001b[32m━━━━━━━━━━━━━━━━━━━━\u001b[0m\u001b[37m\u001b[0m \u001b[1m63s\u001b[0m 785ms/step - loss: 0.2305 - precision: 0.5765 - recall: 0.2631 - val_loss: 0.2630 - val_precision: 0.6014 - val_recall: 0.2913 - learning_rate: 9.9005e-05\n",
      "Epoch 12/40\n",
      "\u001b[1m80/80\u001b[0m \u001b[32m━━━━━━━━━━━━━━━━━━━━\u001b[0m\u001b[37m\u001b[0m \u001b[1m63s\u001b[0m 790ms/step - loss: 0.2299 - precision: 0.5702 - recall: 0.2636 - val_loss: 0.2603 - val_precision: 0.6062 - val_recall: 0.2850 - learning_rate: 9.8020e-05\n",
      "Epoch 13/40\n",
      "\u001b[1m80/80\u001b[0m \u001b[32m━━━━━━━━━━━━━━━━━━━━\u001b[0m\u001b[37m\u001b[0m \u001b[1m62s\u001b[0m 776ms/step - loss: 0.2294 - precision: 0.5816 - recall: 0.2594 - val_loss: 0.2600 - val_precision: 0.6113 - val_recall: 0.2706 - learning_rate: 9.7045e-05\n",
      "Epoch 14/40\n",
      "\u001b[1m80/80\u001b[0m \u001b[32m━━━━━━━━━━━━━━━━━━━━\u001b[0m\u001b[37m\u001b[0m \u001b[1m80s\u001b[0m 753ms/step - loss: 0.2294 - precision: 0.5784 - recall: 0.2654 - val_loss: 0.2577 - val_precision: 0.6125 - val_recall: 0.2610 - learning_rate: 9.6079e-05\n",
      "Epoch 15/40\n",
      "\u001b[1m80/80\u001b[0m \u001b[32m━━━━━━━━━━━━━━━━━━━━\u001b[0m\u001b[37m\u001b[0m \u001b[1m61s\u001b[0m 763ms/step - loss: 0.2285 - precision: 0.5779 - recall: 0.2647 - val_loss: 0.2551 - val_precision: 0.6018 - val_recall: 0.2973 - learning_rate: 9.5123e-05\n",
      "Epoch 16/40\n",
      "\u001b[1m80/80\u001b[0m \u001b[32m━━━━━━━━━━━━━━━━━━━━\u001b[0m\u001b[37m\u001b[0m \u001b[1m82s\u001b[0m 752ms/step - loss: 0.2274 - precision: 0.5896 - recall: 0.2744 - val_loss: 0.2547 - val_precision: 0.5951 - val_recall: 0.2833 - learning_rate: 9.4176e-05\n",
      "Epoch 17/40\n",
      "\u001b[1m80/80\u001b[0m \u001b[32m━━━━━━━━━━━━━━━━━━━━\u001b[0m\u001b[37m\u001b[0m \u001b[1m81s\u001b[0m 740ms/step - loss: 0.2271 - precision: 0.5850 - recall: 0.2637 - val_loss: 0.2527 - val_precision: 0.5915 - val_recall: 0.2936 - learning_rate: 9.3239e-05\n",
      "Epoch 18/40\n",
      "\u001b[1m80/80\u001b[0m \u001b[32m━━━━━━━━━━━━━━━━━━━━\u001b[0m\u001b[37m\u001b[0m \u001b[1m81s\u001b[0m 719ms/step - loss: 0.2269 - precision: 0.5944 - recall: 0.2759 - val_loss: 0.2511 - val_precision: 0.5976 - val_recall: 0.2863 - learning_rate: 9.2312e-05\n",
      "Epoch 19/40\n",
      "\u001b[1m80/80\u001b[0m \u001b[32m━━━━━━━━━━━━━━━━━━━━\u001b[0m\u001b[37m\u001b[0m \u001b[1m59s\u001b[0m 735ms/step - loss: 0.2269 - precision: 0.5887 - recall: 0.2684 - val_loss: 0.2496 - val_precision: 0.5928 - val_recall: 0.2753 - learning_rate: 9.1393e-05\n",
      "Epoch 20/40\n",
      "\u001b[1m80/80\u001b[0m \u001b[32m━━━━━━━━━━━━━━━━━━━━\u001b[0m\u001b[37m\u001b[0m \u001b[1m59s\u001b[0m 738ms/step - loss: 0.2257 - precision: 0.5934 - recall: 0.2668 - val_loss: 0.2476 - val_precision: 0.5828 - val_recall: 0.2600 - learning_rate: 9.0484e-05\n",
      "Epoch 21/40\n",
      "\u001b[1m80/80\u001b[0m \u001b[32m━━━━━━━━━━━━━━━━━━━━\u001b[0m\u001b[37m\u001b[0m \u001b[1m83s\u001b[0m 748ms/step - loss: 0.2255 - precision: 0.6090 - recall: 0.2685 - val_loss: 0.2473 - val_precision: 0.5778 - val_recall: 0.2483 - learning_rate: 8.9583e-05\n",
      "Epoch 22/40\n",
      "\u001b[1m80/80\u001b[0m \u001b[32m━━━━━━━━━━━━━━━━━━━━\u001b[0m\u001b[37m\u001b[0m \u001b[1m82s\u001b[0m 743ms/step - loss: 0.2257 - precision: 0.6066 - recall: 0.2598 - val_loss: 0.2425 - val_precision: 0.5816 - val_recall: 0.2503 - learning_rate: 8.8692e-05\n",
      "Epoch 23/40\n",
      "\u001b[1m80/80\u001b[0m \u001b[32m━━━━━━━━━━━━━━━━━━━━\u001b[0m\u001b[37m\u001b[0m \u001b[1m83s\u001b[0m 759ms/step - loss: 0.2240 - precision: 0.6156 - recall: 0.2635 - val_loss: 0.2461 - val_precision: 0.5824 - val_recall: 0.2470 - learning_rate: 8.7810e-05\n",
      "Epoch 24/40\n",
      "\u001b[1m80/80\u001b[0m \u001b[32m━━━━━━━━━━━━━━━━━━━━\u001b[0m\u001b[37m\u001b[0m \u001b[1m81s\u001b[0m 736ms/step - loss: 0.2236 - precision: 0.6121 - recall: 0.2636 - val_loss: 0.2441 - val_precision: 0.5847 - val_recall: 0.2447 - learning_rate: 8.6936e-05\n",
      "Epoch 25/40\n",
      "\u001b[1m80/80\u001b[0m \u001b[32m━━━━━━━━━━━━━━━━━━━━\u001b[0m\u001b[37m\u001b[0m \u001b[1m60s\u001b[0m 753ms/step - loss: 0.2219 - precision: 0.6280 - recall: 0.2704 - val_loss: 0.2453 - val_precision: 0.5913 - val_recall: 0.2447 - learning_rate: 8.6071e-05\n",
      "Epoch 26/40\n",
      "\u001b[1m80/80\u001b[0m \u001b[32m━━━━━━━━━━━━━━━━━━━━\u001b[0m\u001b[37m\u001b[0m \u001b[1m60s\u001b[0m 754ms/step - loss: 0.2218 - precision: 0.6223 - recall: 0.2641 - val_loss: 0.2462 - val_precision: 0.5825 - val_recall: 0.2410 - learning_rate: 8.5214e-05\n",
      "Epoch 27/40\n",
      "\u001b[1m80/80\u001b[0m \u001b[32m━━━━━━━━━━━━━━━━━━━━\u001b[0m\u001b[37m\u001b[0m \u001b[1m82s\u001b[0m 759ms/step - loss: 0.2214 - precision: 0.6303 - recall: 0.2654 - val_loss: 0.2411 - val_precision: 0.5871 - val_recall: 0.2457 - learning_rate: 8.4366e-05\n",
      "Epoch 28/40\n",
      "\u001b[1m80/80\u001b[0m \u001b[32m━━━━━━━━━━━━━━━━━━━━\u001b[0m\u001b[37m\u001b[0m \u001b[1m81s\u001b[0m 751ms/step - loss: 0.2208 - precision: 0.6288 - recall: 0.2716 - val_loss: 0.2426 - val_precision: 0.5949 - val_recall: 0.2430 - learning_rate: 8.3527e-05\n",
      "Epoch 29/40\n",
      "\u001b[1m80/80\u001b[0m \u001b[32m━━━━━━━━━━━━━━━━━━━━\u001b[0m\u001b[37m\u001b[0m \u001b[1m62s\u001b[0m 779ms/step - loss: 0.2200 - precision: 0.6331 - recall: 0.2678 - val_loss: 0.2419 - val_precision: 0.5867 - val_recall: 0.2410 - learning_rate: 8.2696e-05\n",
      "Epoch 30/40\n",
      "\u001b[1m80/80\u001b[0m \u001b[32m━━━━━━━━━━━━━━━━━━━━\u001b[0m\u001b[37m\u001b[0m \u001b[1m81s\u001b[0m 755ms/step - loss: 0.2195 - precision: 0.6368 - recall: 0.2690 - val_loss: 0.2401 - val_precision: 0.6092 - val_recall: 0.2470 - learning_rate: 8.1873e-05\n",
      "Epoch 31/40\n",
      "\u001b[1m80/80\u001b[0m \u001b[32m━━━━━━━━━━━━━━━━━━━━\u001b[0m\u001b[37m\u001b[0m \u001b[1m81s\u001b[0m 754ms/step - loss: 0.2191 - precision: 0.6421 - recall: 0.2661 - val_loss: 0.2389 - val_precision: 0.6005 - val_recall: 0.2477 - learning_rate: 8.1058e-05\n",
      "Epoch 32/40\n",
      "\u001b[1m80/80\u001b[0m \u001b[32m━━━━━━━━━━━━━━━━━━━━\u001b[0m\u001b[37m\u001b[0m \u001b[1m81s\u001b[0m 750ms/step - loss: 0.2185 - precision: 0.6422 - recall: 0.2744 - val_loss: 0.2396 - val_precision: 0.6067 - val_recall: 0.2470 - learning_rate: 8.0252e-05\n",
      "Epoch 33/40\n",
      "\u001b[1m80/80\u001b[0m \u001b[32m━━━━━━━━━━━━━━━━━━━━\u001b[0m\u001b[37m\u001b[0m \u001b[1m82s\u001b[0m 755ms/step - loss: 0.2174 - precision: 0.6455 - recall: 0.2727 - val_loss: 0.2381 - val_precision: 0.6062 - val_recall: 0.2490 - learning_rate: 7.9453e-05\n",
      "Epoch 34/40\n",
      "\u001b[1m70/80\u001b[0m \u001b[32m━━━━━━━━━━━━━━━━━\u001b[0m\u001b[37m━━━\u001b[0m \u001b[1m7s\u001b[0m 730ms/step - loss: 0.2171 - precision: 0.6423 - recall: 0.2752"
     ]
    }
   ],
   "source": [
    "# CodeGrade Tag Ex3a-iii\n",
    "### Train the model for 40 epochs, using the callbacks you have created. Store\n",
    "### the losses and metrics in a history object.\n",
    "\n",
    "cnn_history = cnn_model.fit(posters_train_ds\\\n",
    "                            ,epochs=40\\\n",
    "                            ,validation_data=posters_valid_ds\\\n",
    "                            ,callbacks=[lr_callback,checkpoint_cnn_callback])"
   ]
  },
  {
   "cell_type": "markdown",
   "metadata": {
    "id": "CEMx5HScjqG5"
   },
   "source": [
    "* **Train the model for 20 epochs** (this may take several minutes)**, using the callbacks you made previously. Store the losses and metrics to use later.**"
   ]
  },
  {
   "cell_type": "code",
   "execution_count": null,
   "metadata": {
    "id": "DS21uKCBjqdt"
   },
   "outputs": [],
   "source": [
    "# CodeGrade Tag Ex3b-i\n",
    "# Train the model for 20 epochs.\n",
    "lstm_history = lstm_model.fit(overviews_train_ds\\\n",
    "                            ,epochs=20\\\n",
    "                            ,validation_data=overviews_valid_ds\\\n",
    "                            ,callbacks=[lr_callback,checkpoint_lstm_callback])"
   ]
  },
  {
   "cell_type": "markdown",
   "metadata": {
    "id": "hkaP8sRwKLYn"
   },
   "source": [
    "# 4. Evaluation of the models\n",
    "\n",
    "### 4.a. CNN Evaluation\n",
    "\n",
    "* **Create plots using the losses and metrics. In your report, discuss these results and critically evaluate the model performance.**"
   ]
  },
  {
   "cell_type": "code",
   "execution_count": null,
   "metadata": {
    "id": "V-zTj4ZZKQ2p"
   },
   "outputs": [],
   "source": [
    "# CodeGrade Tag Ex4a-i\n",
    "\n",
    "fig, ax=plt.subplots(1,3)\n",
    "fig.set_size_inches(15,5)\n",
    "fig.suptitle('CNN Model Training | Epochs=40')\n",
    "\n",
    "ax[0].plot(cnn_history.history['loss'], label='Training')\n",
    "ax[0].plot(cnn_history.history['val_loss'], label='Validation')\n",
    "ax[0].legend(loc=0)\n",
    "ax[0].set_xlabel('Epoch')\n",
    "ax[0].set_ylabel('Loss')\n",
    "ax[0].set_title('Model Loss')\n",
    "ax[0].grid(True)\n",
    "\n",
    "ax[1].plot(cnn_history.history['precision'], label='Training')\n",
    "ax[1].plot(cnn_history.history['val_precision'], label='Validation')\n",
    "ax[1].legend(loc=0)\n",
    "ax[1].set_xlabel('Epoch')\n",
    "ax[1].set_ylabel('Precision')\n",
    "ax[1].set_title('Model Precision')\n",
    "ax[1].grid(True)\n",
    "\n",
    "ax[2].plot(cnn_history.history['recall'], label='Training')\n",
    "ax[2].plot(cnn_history.history['val_recall'], label='Validation')\n",
    "ax[2].legend(loc=0)\n",
    "ax[2].set_xlabel('Epoch')\n",
    "ax[2].set_ylabel('Recall')\n",
    "ax[2].set_title('Model Recall')\n",
    "ax[2].grid(True)\n",
    "\n",
    "plt.show()"
   ]
  },
  {
   "cell_type": "markdown",
   "metadata": {
    "id": "be9li89iSP6E"
   },
   "source": [
    "* **Load the best weights from your model checkpoint, and create plots demonstrating the classification performance for all three classes. Include these plots in your report, and critically evaluate on the performance of the model across the classes.**"
   ]
  },
  {
   "cell_type": "markdown",
   "metadata": {
    "id": "bMqFb3cGaO2B"
   },
   "source": [
    "### 4.b. LSTM Evaluation\n",
    "\n",
    "* **Create plots using the losses and metrics. In your report, discuss these results and critically evaluate the model performance.**"
   ]
  },
  {
   "cell_type": "code",
   "execution_count": null,
   "metadata": {
    "id": "IRa83gpJU35q"
   },
   "outputs": [],
   "source": [
    "# CodeGrade Tag Ex4b-i\n",
    "\n",
    "fig, ax=plt.subplots(1,3)\n",
    "fig.set_size_inches(15,5)\n",
    "fig.suptitle('LSTM Model Training | Epochs=20')\n",
    "\n",
    "ax[0].plot(lstm_history.history['loss'], label='Training')\n",
    "ax[0].plot(lstm_history.history['val_loss'], label='Validation')\n",
    "ax[0].legend(loc=0)\n",
    "ax[0].set_xlabel('Epoch')\n",
    "ax[0].set_ylabel('Loss')\n",
    "ax[0].set_title('Model Loss')\n",
    "ax[0].grid(True)\n",
    "\n",
    "ax[1].plot(lstm_history.history['precision_1'], label='Training')\n",
    "ax[1].plot(lstm_history.history['val_precision_1'], label='Validation')\n",
    "ax[1].legend(loc=0)\n",
    "ax[1].set_xlabel('Epoch')\n",
    "ax[1].set_ylabel('Precision')\n",
    "ax[1].set_title('Model Precision')\n",
    "ax[1].grid(True)\n",
    "\n",
    "ax[2].plot(lstm_history.history['recall_1'], label='Training')\n",
    "ax[2].plot(lstm_history.history['val_recall_1'], label='Validation')\n",
    "ax[2].legend(loc=0)\n",
    "ax[2].set_xlabel('Epoch')\n",
    "ax[2].set_ylabel('Recall')\n",
    "ax[2].set_title('Model Recall')\n",
    "ax[2].grid(True)\n",
    "\n",
    "plt.show()"
   ]
  },
  {
   "cell_type": "markdown",
   "metadata": {
    "id": "TxGqxM-kTBck"
   },
   "source": [
    "### 4.c. Produce examples for the report\n",
    "\n",
    "* First, load the best weights from your checkpoints of both your models.\n",
    "\n",
    "* Choose a few films from the dataset, plot their posters and print their overviews. Use these example films to demonstrate the classification performance of the CNN model on their posters and of the LSTM model on their overview.\n",
    "\n",
    "* Be sure to demonstrate the results of the multi-label classification. Compare, for each example film, the top three most probable genres predicted by the CNN and the top three most probable genres predicted by the LSTM with the ground truth genres.\n",
    "\n",
    "* Include these examples in your report, and critically evaluate on the performance of the model across the classes."
   ]
  },
  {
   "cell_type": "code",
   "execution_count": null,
   "metadata": {
    "id": "x7BtdNrsSlai"
   },
   "outputs": [],
   "source": [
    "# CodeGrade Tag Ex4c\n",
    "cnn_model.load_weights(checkpoint_cnn_filepath)"
   ]
  },
  {
   "cell_type": "code",
   "execution_count": null,
   "metadata": {
    "id": "TFuchp6PlT8z"
   },
   "outputs": [],
   "source": [
    "lstm_model.load_weights(checkpoint_lstm_filepath)"
   ]
  },
  {
   "cell_type": "code",
   "execution_count": null,
   "metadata": {
    "id": "sY0pup-BsKYE"
   },
   "outputs": [],
   "source": [
    "from tensorflow.keras.models import save_model, load_model"
   ]
  },
  {
   "cell_type": "code",
   "execution_count": null,
   "metadata": {
    "id": "om4KvoGooA9Q"
   },
   "outputs": [],
   "source": [
    "cnn_model.save('/content/cnn_model.h5')\n",
    "lstm_model.save('/content/lstm_model.h5')\n",
    "\n",
    "cnn_model1 = tf.keras.models.load_model('/content/cnn_model.h5')\n",
    "lstm_model1 = tf.keras.models.load_model('/content/lstm_model.h5')\n",
    "\n",
    "cnn_model1.load_weights(checkpoint_cnn_filepath)\n",
    "lstm_model1.load_weights(checkpoint_lstm_filepath)"
   ]
  },
  {
   "cell_type": "markdown",
   "metadata": {
    "id": "bnZGz8OjvJSx"
   },
   "source": [
    "#### Select random data to compare"
   ]
  },
  {
   "cell_type": "code",
   "execution_count": null,
   "metadata": {
    "id": "tqUDzKmFp4k8"
   },
   "outputs": [],
   "source": [
    "posters_all=list(posters_valid_ds.unbatch().as_numpy_iterator())\n",
    "overviews_all=list(overviews_valid_ds.unbatch().as_numpy_iterator())"
   ]
  },
  {
   "cell_type": "code",
   "execution_count": null,
   "metadata": {
    "id": "92QPbSsZqQ9i"
   },
   "outputs": [],
   "source": [
    "random_indices=np.random.choice(len(posters_all),size=10,replace=False)"
   ]
  },
  {
   "cell_type": "code",
   "execution_count": null,
   "metadata": {
    "id": "M4Rh3WR-qZuG"
   },
   "outputs": [],
   "source": [
    "posters_ex=[posters_all[i] for i in random_indices]\n",
    "overviews_ex=[overviews_all[i] for i in random_indices]\n",
    "images_ex=[data_test['Id'].iloc[i] for i in random_indices]\n"
   ]
  },
  {
   "cell_type": "code",
   "execution_count": null,
   "metadata": {
    "id": "aiuR3Cw2qf6I"
   },
   "outputs": [],
   "source": [
    "for i, (poster, overview,image_id) in enumerate(zip(posters_ex, overviews_ex,images_ex)):\n",
    "    true_label_poster = poster[1]\n",
    "    true_label_overview = overview[1]\n",
    "\n",
    "    prediction_cnn1 = cnn_model.predict(tf.expand_dims(poster[0], axis=0))\n",
    "    predicted_labels_cnn = (prediction_cnn1 >= 0.5).astype(int)\n",
    "    prediction_cnn2=[genres[i] for i,value in enumerate(predicted_labels_cnn[0]) if value==1]\n",
    "\n",
    "\n",
    "    prediction_lstm1 = lstm_model.predict(tf.expand_dims(overview[0], axis=0))\n",
    "    predicted_labels_lstm = (prediction_lstm1 >= 0.5).astype(int)\n",
    "    prediction_lstm2=[genres[i] for i,value in enumerate(predicted_labels_lstm[0]) if value==1]\n",
    "\n",
    "\n",
    "    true=[genres[i] for i,value in enumerate(true_label_poster) if value==1]\n",
    "\n",
    "    prediction_lstm1_proba=list(zip(genres,prediction_lstm1[0]))\n",
    "    prediction_lstm1_proba.sort(key=lambda x: x[1], reverse=True)\n",
    "\n",
    "    prediction_cnn_proba=list(zip(genres,prediction_cnn1[0]))\n",
    "    prediction_cnn_proba.sort(key=lambda x: x[1], reverse=True)\n",
    "\n",
    "\n",
    "    img_loc = \"/tmp/Multimodal_IMDB_dataset/Images/\"\n",
    "    image = tf.io.read_file(img_loc+image_id+'.jpg')\n",
    "    image = tf.io.decode_jpeg(image)\n",
    "\n",
    "\n",
    "    print(f\"Example {i+1}\",' ImageID:',image_id)\n",
    "    plt.imshow(image)\n",
    "    plt.show()\n",
    "    print(\"Overview:\", overview[0])\n",
    "    print(\"True Labels:\", true)\n",
    "    print(\"Labels (CNN):\", prediction_cnn_proba[:3])\n",
    "    print(\"Labels (LSTM):\", prediction_lstm1_proba[:3])\n",
    "    print(\"\\n\" )"
   ]
  },
  {
   "cell_type": "code",
   "execution_count": null,
   "metadata": {
    "id": "US19V8AVnWQl"
   },
   "outputs": [],
   "source": [
    "posters_all_train=list(posters_train_ds.unbatch().as_numpy_iterator())\n",
    "Total_Train=list(np.array([i[1] for i in posters_all_train]).sum(axis=0))\n",
    "Total_Test=list(np.array([i[1] for i in posters_all]).sum(axis=0))"
   ]
  },
  {
   "cell_type": "code",
   "execution_count": null,
   "metadata": {
    "id": "LChPUU2VvaIJ"
   },
   "outputs": [],
   "source": [
    "#Distribution of test samples\n",
    "plt.bar(genres,Total_Test)\n",
    "plt.title('Distribution of Samples by Classes | Total Test')\n",
    "plt.xlabel('Genres')\n",
    "plt.ylabel('Count')\n",
    "plt.xticks(rotation=90)\n",
    "plt.grid(True)\n",
    "plt.show()"
   ]
  },
  {
   "cell_type": "code",
   "execution_count": null,
   "metadata": {
    "id": "wuDcODdVvgoB"
   },
   "outputs": [],
   "source": [
    "#Distribution of train samples\n",
    "plt.bar(genres,Total_Train)\n",
    "plt.title('Distribution of Samples by Classes | Total Train')\n",
    "plt.xlabel('Genres')\n",
    "plt.ylabel('Count')\n",
    "plt.xticks(rotation=90)\n",
    "plt.grid(True)\n",
    "plt.show()"
   ]
  },
  {
   "cell_type": "code",
   "execution_count": null,
   "metadata": {
    "id": "eqz2iNIL2j8P"
   },
   "outputs": [],
   "source": [
    "predictions=cnn_model.predict(posters_valid_ds)"
   ]
  },
  {
   "cell_type": "code",
   "execution_count": null,
   "metadata": {
    "id": "V3kEFUQf3jQg"
   },
   "outputs": [],
   "source": [
    "predictions[predictions>=0.5]=1\n",
    "predictions[predictions<0.5]=0"
   ]
  },
  {
   "cell_type": "code",
   "execution_count": null,
   "metadata": {
    "id": "oPKwe00Y5goR"
   },
   "outputs": [],
   "source": [
    "true_labels_test=np.array([i[1] for i in posters_all])"
   ]
  },
  {
   "cell_type": "code",
   "execution_count": null,
   "metadata": {
    "id": "JttrbL4u5a1H"
   },
   "outputs": [],
   "source": [
    "confusion_m1=multilabel_confusion_matrix(true_labels_test,predictions)"
   ]
  },
  {
   "cell_type": "code",
   "execution_count": null,
   "metadata": {
    "id": "_TBELJMm6edu"
   },
   "outputs": [],
   "source": [
    "#CNN Predictions\n",
    "fig,ax=plt.subplots(5,5,sharex=True,sharey=True)\n",
    "fig.set_size_inches(15,15)\n",
    "ax=ax.flatten()\n",
    "for n,i in enumerate(confusion_m1):\n",
    "  cm=pd.DataFrame(i,index=['True 0','True 1'],columns=['Pred 0','Pred 1'])\n",
    "  sns.heatmap(cm,annot=True,fmt='d',cmap='Blues',ax=ax[n])\n",
    "  #plt.title('Confusion Matrix')\n",
    "  ax[n].set_title(genres[n])\n",
    "  #print(i)"
   ]
  },
  {
   "cell_type": "code",
   "execution_count": null,
   "metadata": {
    "id": "E2gDGUoiS0fD"
   },
   "outputs": [],
   "source": [
    "overviews_all_train=list(overviews_train_ds.unbatch().as_numpy_iterator())\n",
    "Total_Train=list(np.array([i[1] for i in overviews_all_train]).sum(axis=0))\n",
    "Total_Test=list(np.array([i[1] for i in overviews_all]).sum(axis=0))\n",
    "predictions=lstm_model.predict(overviews_valid_ds)\n",
    "predictions[predictions>=0.5]=1\n",
    "predictions[predictions<0.5]=0\n",
    "true_labels_test=np.array([i[1] for i in overviews_all])\n",
    "confusion_m1=multilabel_confusion_matrix(true_labels_test,predictions)"
   ]
  },
  {
   "cell_type": "code",
   "execution_count": null,
   "metadata": {
    "id": "4nUG5gbiTTdi"
   },
   "outputs": [],
   "source": [
    "#LSTM Predictions\n",
    "fig,ax=plt.subplots(5,5,sharex=True,sharey=True)\n",
    "fig.set_size_inches(15,15)\n",
    "ax=ax.flatten()\n",
    "for n,i in enumerate(confusion_m1):\n",
    "  cm=pd.DataFrame(i,index=['True 0','True 1'],columns=['Pred 0','Pred 1'])\n",
    "  sns.heatmap(cm,annot=True,fmt='d',cmap='Blues',ax=ax[n])\n",
    "  #plt.title('Confusion Matrix')\n",
    "  ax[n].set_title(genres[n])\n",
    "  #print(i)"
   ]
  }
 ],
 "metadata": {
  "accelerator": "GPU",
  "colab": {
   "gpuType": "T4",
   "provenance": []
  },
  "kernelspec": {
   "display_name": "Python 3 (ipykernel)",
   "language": "python",
   "name": "python3"
  },
  "language_info": {
   "codemirror_mode": {
    "name": "ipython",
    "version": 3
   },
   "file_extension": ".py",
   "mimetype": "text/x-python",
   "name": "python",
   "nbconvert_exporter": "python",
   "pygments_lexer": "ipython3",
   "version": "3.11.7"
  }
 },
 "nbformat": 4,
 "nbformat_minor": 4
}
